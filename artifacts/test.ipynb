{
 "cells": [
  {
   "cell_type": "code",
   "execution_count": 2,
   "metadata": {},
   "outputs": [],
   "source": [
    "import pandas as pd\n",
    "train = pd.read_csv('test.csv')\n",
    "test = pd.read_csv('test.csv')"
   ]
  },
  {
   "cell_type": "code",
   "execution_count": 14,
   "metadata": {},
   "outputs": [],
   "source": [
    "from src.components.data_transformation import DataTransformation, Processor\n",
    "\n",
    "transformer = DataTransformation()\n",
    "trainArr, testArr = transformer.initiateTransformation('train.csv', 'test.csv')"
   ]
  },
  {
   "cell_type": "code",
   "execution_count": 36,
   "metadata": {},
   "outputs": [
    {
     "data": {
      "text/plain": [
       "3418.0"
      ]
     },
     "execution_count": 36,
     "metadata": {},
     "output_type": "execute_result"
    }
   ],
   "source": [
    "np.max(trainArr[:,0])"
   ]
  },
  {
   "cell_type": "code",
   "execution_count": 16,
   "metadata": {},
   "outputs": [],
   "source": [
    "process = Processor()\n",
    "train = process.preprocessing(train)\n",
    "test = process.preprocessing(test)"
   ]
  },
  {
   "cell_type": "code",
   "execution_count": 37,
   "metadata": {},
   "outputs": [
    {
     "data": {
      "text/html": [
       "<div>\n",
       "<style scoped>\n",
       "    .dataframe tbody tr th:only-of-type {\n",
       "        vertical-align: middle;\n",
       "    }\n",
       "\n",
       "    .dataframe tbody tr th {\n",
       "        vertical-align: top;\n",
       "    }\n",
       "\n",
       "    .dataframe thead th {\n",
       "        text-align: right;\n",
       "    }\n",
       "</style>\n",
       "<table border=\"1\" class=\"dataframe\">\n",
       "  <thead>\n",
       "    <tr style=\"text-align: right;\">\n",
       "      <th></th>\n",
       "      <th>Rented Bike Count</th>\n",
       "      <th>Hour</th>\n",
       "      <th>Temperature(°C)</th>\n",
       "      <th>Humidity(%)</th>\n",
       "      <th>Wind speed (m/s)</th>\n",
       "      <th>Month</th>\n",
       "      <th>Day</th>\n",
       "      <th>Day of the week</th>\n",
       "      <th>Precipitation (mm)</th>\n",
       "    </tr>\n",
       "  </thead>\n",
       "  <tbody>\n",
       "    <tr>\n",
       "      <th>count</th>\n",
       "      <td>2628.000000</td>\n",
       "      <td>2628.000000</td>\n",
       "      <td>2628.000000</td>\n",
       "      <td>2628.000000</td>\n",
       "      <td>2628.000000</td>\n",
       "      <td>2628.000000</td>\n",
       "      <td>2628.000000</td>\n",
       "      <td>2628.000000</td>\n",
       "      <td>2628.000000</td>\n",
       "    </tr>\n",
       "    <tr>\n",
       "      <th>mean</th>\n",
       "      <td>699.858447</td>\n",
       "      <td>11.453577</td>\n",
       "      <td>12.591096</td>\n",
       "      <td>58.256469</td>\n",
       "      <td>1.705746</td>\n",
       "      <td>6.561263</td>\n",
       "      <td>15.737823</td>\n",
       "      <td>4.024734</td>\n",
       "      <td>0.901903</td>\n",
       "    </tr>\n",
       "    <tr>\n",
       "      <th>std</th>\n",
       "      <td>640.270332</td>\n",
       "      <td>7.029151</td>\n",
       "      <td>12.039544</td>\n",
       "      <td>20.147166</td>\n",
       "      <td>1.045021</td>\n",
       "      <td>3.480499</td>\n",
       "      <td>8.804357</td>\n",
       "      <td>2.004885</td>\n",
       "      <td>4.349212</td>\n",
       "    </tr>\n",
       "    <tr>\n",
       "      <th>min</th>\n",
       "      <td>0.000000</td>\n",
       "      <td>0.000000</td>\n",
       "      <td>-17.800000</td>\n",
       "      <td>0.000000</td>\n",
       "      <td>0.000000</td>\n",
       "      <td>1.000000</td>\n",
       "      <td>1.000000</td>\n",
       "      <td>1.000000</td>\n",
       "      <td>0.000000</td>\n",
       "    </tr>\n",
       "    <tr>\n",
       "      <th>25%</th>\n",
       "      <td>190.000000</td>\n",
       "      <td>5.000000</td>\n",
       "      <td>3.000000</td>\n",
       "      <td>43.000000</td>\n",
       "      <td>0.900000</td>\n",
       "      <td>4.000000</td>\n",
       "      <td>8.000000</td>\n",
       "      <td>2.000000</td>\n",
       "      <td>0.000000</td>\n",
       "    </tr>\n",
       "    <tr>\n",
       "      <th>50%</th>\n",
       "      <td>498.500000</td>\n",
       "      <td>11.000000</td>\n",
       "      <td>13.300000</td>\n",
       "      <td>58.000000</td>\n",
       "      <td>1.500000</td>\n",
       "      <td>7.000000</td>\n",
       "      <td>16.000000</td>\n",
       "      <td>4.000000</td>\n",
       "      <td>0.000000</td>\n",
       "    </tr>\n",
       "    <tr>\n",
       "      <th>75%</th>\n",
       "      <td>1062.250000</td>\n",
       "      <td>18.000000</td>\n",
       "      <td>22.200000</td>\n",
       "      <td>73.000000</td>\n",
       "      <td>2.300000</td>\n",
       "      <td>10.000000</td>\n",
       "      <td>23.000000</td>\n",
       "      <td>6.000000</td>\n",
       "      <td>0.000000</td>\n",
       "    </tr>\n",
       "    <tr>\n",
       "      <th>max</th>\n",
       "      <td>3556.000000</td>\n",
       "      <td>23.000000</td>\n",
       "      <td>39.400000</td>\n",
       "      <td>98.000000</td>\n",
       "      <td>5.800000</td>\n",
       "      <td>12.000000</td>\n",
       "      <td>31.000000</td>\n",
       "      <td>7.000000</td>\n",
       "      <td>50.000000</td>\n",
       "    </tr>\n",
       "  </tbody>\n",
       "</table>\n",
       "</div>"
      ],
      "text/plain": [
       "       Rented Bike Count         Hour  Temperature(°C)  Humidity(%)  \\\n",
       "count        2628.000000  2628.000000      2628.000000  2628.000000   \n",
       "mean          699.858447    11.453577        12.591096    58.256469   \n",
       "std           640.270332     7.029151        12.039544    20.147166   \n",
       "min             0.000000     0.000000       -17.800000     0.000000   \n",
       "25%           190.000000     5.000000         3.000000    43.000000   \n",
       "50%           498.500000    11.000000        13.300000    58.000000   \n",
       "75%          1062.250000    18.000000        22.200000    73.000000   \n",
       "max          3556.000000    23.000000        39.400000    98.000000   \n",
       "\n",
       "       Wind speed (m/s)        Month          Day  Day of the week  \\\n",
       "count       2628.000000  2628.000000  2628.000000      2628.000000   \n",
       "mean           1.705746     6.561263    15.737823         4.024734   \n",
       "std            1.045021     3.480499     8.804357         2.004885   \n",
       "min            0.000000     1.000000     1.000000         1.000000   \n",
       "25%            0.900000     4.000000     8.000000         2.000000   \n",
       "50%            1.500000     7.000000    16.000000         4.000000   \n",
       "75%            2.300000    10.000000    23.000000         6.000000   \n",
       "max            5.800000    12.000000    31.000000         7.000000   \n",
       "\n",
       "       Precipitation (mm)  \n",
       "count         2628.000000  \n",
       "mean             0.901903  \n",
       "std              4.349212  \n",
       "min              0.000000  \n",
       "25%              0.000000  \n",
       "50%              0.000000  \n",
       "75%              0.000000  \n",
       "max             50.000000  "
      ]
     },
     "execution_count": 37,
     "metadata": {},
     "output_type": "execute_result"
    }
   ],
   "source": [
    "train.describe()"
   ]
  },
  {
   "cell_type": "code",
   "execution_count": 23,
   "metadata": {},
   "outputs": [
    {
     "data": {
      "text/plain": [
       "array([[ 1.728e+03,  8.000e+00,  2.720e+01, ...,  1.000e+01,  5.000e+00,\n",
       "         0.000e+00],\n",
       "       [ 8.220e+02,  1.200e+01,  3.260e+01, ...,  2.000e+01,  5.000e+00,\n",
       "         0.000e+00],\n",
       "       [ 6.580e+02,  1.400e+01,  3.400e+01, ...,  7.000e+00,  2.000e+00,\n",
       "         0.000e+00],\n",
       "       ...,\n",
       "       [ 1.401e+03,  2.000e+01,  1.260e+01, ...,  3.000e+00,  4.000e+00,\n",
       "         0.000e+00],\n",
       "       [ 1.690e+02,  2.300e+01, -1.000e+00, ...,  2.500e+01,  1.000e+00,\n",
       "         0.000e+00],\n",
       "       [ 3.770e+02,  2.100e+01,  4.100e+00, ...,  2.000e+00,  6.000e+00,\n",
       "         0.000e+00]])"
      ]
     },
     "execution_count": 23,
     "metadata": {},
     "output_type": "execute_result"
    }
   ],
   "source": [
    "import numpy as np\n",
    "np.array(test)"
   ]
  },
  {
   "cell_type": "code",
   "execution_count": 29,
   "metadata": {},
   "outputs": [
    {
     "data": {
      "text/html": [
       "<div>\n",
       "<style scoped>\n",
       "    .dataframe tbody tr th:only-of-type {\n",
       "        vertical-align: middle;\n",
       "    }\n",
       "\n",
       "    .dataframe tbody tr th {\n",
       "        vertical-align: top;\n",
       "    }\n",
       "\n",
       "    .dataframe thead th {\n",
       "        text-align: right;\n",
       "    }\n",
       "</style>\n",
       "<table border=\"1\" class=\"dataframe\">\n",
       "  <thead>\n",
       "    <tr style=\"text-align: right;\">\n",
       "      <th></th>\n",
       "      <th>Rented Bike Count</th>\n",
       "      <th>Hour</th>\n",
       "      <th>Temperature(°C)</th>\n",
       "      <th>Humidity(%)</th>\n",
       "      <th>Wind speed (m/s)</th>\n",
       "      <th>Month</th>\n",
       "      <th>Day</th>\n",
       "      <th>Day of the week</th>\n",
       "      <th>Precipitation (mm)</th>\n",
       "    </tr>\n",
       "  </thead>\n",
       "  <tbody>\n",
       "    <tr>\n",
       "      <th>0</th>\n",
       "      <td>1728</td>\n",
       "      <td>8</td>\n",
       "      <td>27.2</td>\n",
       "      <td>69</td>\n",
       "      <td>1.8</td>\n",
       "      <td>8</td>\n",
       "      <td>10</td>\n",
       "      <td>5</td>\n",
       "      <td>0.0</td>\n",
       "    </tr>\n",
       "    <tr>\n",
       "      <th>1</th>\n",
       "      <td>822</td>\n",
       "      <td>12</td>\n",
       "      <td>32.6</td>\n",
       "      <td>51</td>\n",
       "      <td>2.1</td>\n",
       "      <td>7</td>\n",
       "      <td>20</td>\n",
       "      <td>5</td>\n",
       "      <td>0.0</td>\n",
       "    </tr>\n",
       "    <tr>\n",
       "      <th>2</th>\n",
       "      <td>658</td>\n",
       "      <td>14</td>\n",
       "      <td>34.0</td>\n",
       "      <td>50</td>\n",
       "      <td>1.2</td>\n",
       "      <td>8</td>\n",
       "      <td>7</td>\n",
       "      <td>2</td>\n",
       "      <td>0.0</td>\n",
       "    </tr>\n",
       "    <tr>\n",
       "      <th>3</th>\n",
       "      <td>2716</td>\n",
       "      <td>18</td>\n",
       "      <td>16.9</td>\n",
       "      <td>47</td>\n",
       "      <td>1.4</td>\n",
       "      <td>10</td>\n",
       "      <td>16</td>\n",
       "      <td>2</td>\n",
       "      <td>0.0</td>\n",
       "    </tr>\n",
       "    <tr>\n",
       "      <th>4</th>\n",
       "      <td>1083</td>\n",
       "      <td>7</td>\n",
       "      <td>6.4</td>\n",
       "      <td>51</td>\n",
       "      <td>1.0</td>\n",
       "      <td>4</td>\n",
       "      <td>18</td>\n",
       "      <td>3</td>\n",
       "      <td>0.0</td>\n",
       "    </tr>\n",
       "    <tr>\n",
       "      <th>5</th>\n",
       "      <td>636</td>\n",
       "      <td>1</td>\n",
       "      <td>28.0</td>\n",
       "      <td>71</td>\n",
       "      <td>0.6</td>\n",
       "      <td>7</td>\n",
       "      <td>29</td>\n",
       "      <td>7</td>\n",
       "      <td>0.0</td>\n",
       "    </tr>\n",
       "    <tr>\n",
       "      <th>6</th>\n",
       "      <td>1537</td>\n",
       "      <td>20</td>\n",
       "      <td>31.3</td>\n",
       "      <td>65</td>\n",
       "      <td>2.0</td>\n",
       "      <td>8</td>\n",
       "      <td>6</td>\n",
       "      <td>1</td>\n",
       "      <td>0.0</td>\n",
       "    </tr>\n",
       "    <tr>\n",
       "      <th>7</th>\n",
       "      <td>712</td>\n",
       "      <td>22</td>\n",
       "      <td>2.1</td>\n",
       "      <td>41</td>\n",
       "      <td>1.0</td>\n",
       "      <td>11</td>\n",
       "      <td>30</td>\n",
       "      <td>5</td>\n",
       "      <td>0.0</td>\n",
       "    </tr>\n",
       "    <tr>\n",
       "      <th>8</th>\n",
       "      <td>425</td>\n",
       "      <td>7</td>\n",
       "      <td>26.7</td>\n",
       "      <td>67</td>\n",
       "      <td>0.8</td>\n",
       "      <td>8</td>\n",
       "      <td>11</td>\n",
       "      <td>6</td>\n",
       "      <td>0.0</td>\n",
       "    </tr>\n",
       "    <tr>\n",
       "      <th>9</th>\n",
       "      <td>594</td>\n",
       "      <td>1</td>\n",
       "      <td>16.6</td>\n",
       "      <td>53</td>\n",
       "      <td>1.7</td>\n",
       "      <td>9</td>\n",
       "      <td>26</td>\n",
       "      <td>3</td>\n",
       "      <td>0.0</td>\n",
       "    </tr>\n",
       "  </tbody>\n",
       "</table>\n",
       "</div>"
      ],
      "text/plain": [
       "   Rented Bike Count  Hour  Temperature(°C)  Humidity(%)  Wind speed (m/s)  \\\n",
       "0               1728     8             27.2           69               1.8   \n",
       "1                822    12             32.6           51               2.1   \n",
       "2                658    14             34.0           50               1.2   \n",
       "3               2716    18             16.9           47               1.4   \n",
       "4               1083     7              6.4           51               1.0   \n",
       "5                636     1             28.0           71               0.6   \n",
       "6               1537    20             31.3           65               2.0   \n",
       "7                712    22              2.1           41               1.0   \n",
       "8                425     7             26.7           67               0.8   \n",
       "9                594     1             16.6           53               1.7   \n",
       "\n",
       "   Month  Day  Day of the week  Precipitation (mm)  \n",
       "0      8   10                5                 0.0  \n",
       "1      7   20                5                 0.0  \n",
       "2      8    7                2                 0.0  \n",
       "3     10   16                2                 0.0  \n",
       "4      4   18                3                 0.0  \n",
       "5      7   29                7                 0.0  \n",
       "6      8    6                1                 0.0  \n",
       "7     11   30                5                 0.0  \n",
       "8      8   11                6                 0.0  \n",
       "9      9   26                3                 0.0  "
      ]
     },
     "execution_count": 29,
     "metadata": {},
     "output_type": "execute_result"
    }
   ],
   "source": [
    "train.head(10)"
   ]
  },
  {
   "cell_type": "code",
   "execution_count": 40,
   "metadata": {},
   "outputs": [
    {
     "data": {
      "text/plain": [
       "3556.0"
      ]
     },
     "execution_count": 40,
     "metadata": {},
     "output_type": "execute_result"
    }
   ],
   "source": [
    "trainarr = np.array(train)\n",
    "max(trainarr[:,0])"
   ]
  },
  {
   "cell_type": "code",
   "execution_count": 41,
   "metadata": {},
   "outputs": [],
   "source": [
    "from sklearn.linear_model import LinearRegression\n",
    "from sklearn.ensemble import (\n",
    "    AdaBoostRegressor,\n",
    "    GradientBoostingRegressor,\n",
    "    RandomForestRegressor\n",
    ")\n",
    "from sklearn.metrics import r2_score\n",
    "from sklearn.tree import DecisionTreeRegressor\n",
    "from xgboost import XGBRegressor\n",
    "models = {\n",
    "                'Linear Regression': LinearRegression(),\n",
    "                'Random Forest Regressor': RandomForestRegressor(),\n",
    "                'XGBoost Regressor': XGBRegressor(),\n",
    "                'AdaBoost Regressor': AdaBoostRegressor(),\n",
    "                'Gradient Boost Regressor': GradientBoostingRegressor(),\n",
    "                'Decision Tree Regressor': DecisionTreeRegressor()\n",
    "            }\n"
   ]
  },
  {
   "cell_type": "code",
   "execution_count": 55,
   "metadata": {},
   "outputs": [
    {
     "data": {
      "text/plain": [
       "['Linear Regression',\n",
       " 'Random Forest Regressor',\n",
       " 'XGBoost Regressor',\n",
       " 'AdaBoost Regressor',\n",
       " 'Gradient Boost Regressor',\n",
       " 'Decision Tree Regressor']"
      ]
     },
     "execution_count": 55,
     "metadata": {},
     "output_type": "execute_result"
    }
   ],
   "source": [
    "list(models.keys())"
   ]
  },
  {
   "cell_type": "code",
   "execution_count": 56,
   "metadata": {},
   "outputs": [],
   "source": [
    "models = {\n",
    "                'Linear Regression': 0.85,\n",
    "                'Random Forest Regressor': 0.89,\n",
    "                'XGBoost Regressor': 0.91,\n",
    "                'AdaBoost Regressor': 0.93,\n",
    "                'Gradient Boost Regressor': 0.90,\n",
    "                'Decision Tree Regressor': 0.88\n",
    "            }"
   ]
  },
  {
   "cell_type": "code",
   "execution_count": 58,
   "metadata": {},
   "outputs": [
    {
     "data": {
      "text/plain": [
       "0.93"
      ]
     },
     "execution_count": 58,
     "metadata": {},
     "output_type": "execute_result"
    }
   ],
   "source": [
    "max(models.values())"
   ]
  },
  {
   "cell_type": "code",
   "execution_count": 62,
   "metadata": {},
   "outputs": [
    {
     "data": {
      "text/plain": [
       "'AdaBoost Regressor'"
      ]
     },
     "execution_count": 62,
     "metadata": {},
     "output_type": "execute_result"
    }
   ],
   "source": [
    "list(models)[list(models.values()).index(max(models.values()))]"
   ]
  },
  {
   "cell_type": "code",
   "execution_count": 63,
   "metadata": {},
   "outputs": [
    {
     "data": {
      "text/plain": [
       "['Linear Regression',\n",
       " 'Random Forest Regressor',\n",
       " 'XGBoost Regressor',\n",
       " 'AdaBoost Regressor',\n",
       " 'Gradient Boost Regressor',\n",
       " 'Decision Tree Regressor']"
      ]
     },
     "execution_count": 63,
     "metadata": {},
     "output_type": "execute_result"
    }
   ],
   "source": [
    "list(models)"
   ]
  }
 ],
 "metadata": {
  "kernelspec": {
   "display_name": "venv",
   "language": "python",
   "name": "python3"
  },
  "language_info": {
   "codemirror_mode": {
    "name": "ipython",
    "version": 3
   },
   "file_extension": ".py",
   "mimetype": "text/x-python",
   "name": "python",
   "nbconvert_exporter": "python",
   "pygments_lexer": "ipython3",
   "version": "3.11.6"
  }
 },
 "nbformat": 4,
 "nbformat_minor": 2
}
